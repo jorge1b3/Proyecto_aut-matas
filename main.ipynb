{
 "cells": [
  {
   "cell_type": "code",
   "execution_count": 11,
   "outputs": [],
   "source": [
    "from automata.fa.dfa import DFA\n",
    "from automata.fa.nfa import NFA\n"
   ],
   "metadata": {
    "collapsed": false
   }
  },
  {
   "cell_type": "code",
   "execution_count": 12,
   "outputs": [],
   "source": [
    "DFA = DFA(\n",
    "    states={\n",
    "        'q0','q1', 'q2', 'q3', 'q4', 'q5', 'q6', 'q7', 'q8', 'q9', 'q10', 'q11', 'q12', 'q13', 'q14', 'q15', 'q16', 'q17', 'q18', 'q19', 'q20', 'q21', 'q22', 'q23', 'q24', 'q25', 'q26', 'q27', 'q28', 'q29', 'q30', 'q31', 'q32', 'q33', 'q34', 'q35', 'q36', 'q37', 'q38', 'q39', 'q40', 'q41', 'q42', 'q43', 'q44', 'q45', 'q46', 'q47', 'q48', 'q49', 'q50', 'q51', 'q52', 'q53', 'q54', 'q55'\n",
    "    },\n",
    "    input_symbols={'s', 'n'},\n",
    "    transitions={\n",
    "        'q0':{'s': 'q29','n': 'q1'},\n",
    "        'q1':{'s': 'q5','n': 'q2'},\n",
    "        'q2':{'s': 'q4','n': 'q3'},\n",
    "        'q3':{'s': 'q3','n': 'q3'},\n",
    "        'q4':{'s': 'q4','n': 'q4'},\n",
    "        'q5':{'s': 'q19','n': 'q6'},\n",
    "        'q6':{'s': 'q14','n': 'q7'},\n",
    "        'q7':{'s': 'q13','n': 'q8'},\n",
    "        'q8':{'s': 'q10','n': 'q9'},\n",
    "        'q9':{'s': 'q9','n': 'q9'},\n",
    "        'q10':{'s': 'q12','n': 'q11'},\n",
    "        'q11':{'s': 'q11','n': 'q11'},\n",
    "        'q12':{'s': 'q12','n': 'q12'},\n",
    "        'q13':{'s': 'q13','n': 'q13'},\n",
    "        'q14':{'s': 'q16','n': 'q15'},\n",
    "        'q15':{'s': 'q15','n': 'q15'},\n",
    "        'q16':{'s': 'q18','n': 'q17'},\n",
    "        'q17':{'s': 'q17','n': 'q17'},\n",
    "        'q18':{'s': 'q18','n': 'q18'},\n",
    "        'q19':{'s': 'q20','n': 'q6'},\n",
    "        'q20':{'s': 'q22','n': 'q21'},\n",
    "        'q21':{'s': 'q21','n': 'q21'},\n",
    "        'q22':{'s': 'q28','n': 'q23'},\n",
    "        'q23':{'s': 'q27','n': 'q24'},\n",
    "        'q24':{'s': 'q26','n': 'q25'},\n",
    "        'q25':{'s': 'q25','n': 'q25'},\n",
    "        'q26':{'s': 'q26','n': 'q26'},\n",
    "        'q27':{'s': 'q27','n': 'q27'},\n",
    "        'q28':{'s': 'q28','n': 'q28'},\n",
    "        'q29':{'s': 'q33','n': 'q30'},\n",
    "        'q30':{'s': 'q32','n': 'q31'},\n",
    "        'q31':{'s': 'q31','n': 'q31'},\n",
    "        'q32':{'s': 'q32','n': 'q32'},\n",
    "        'q33':{'s': 'q47','n': 'q34'},\n",
    "        'q34':{'s': 'q46','n': 'q35'},\n",
    "        'q35':{'s': 'q45','n': 'q36'},\n",
    "        'q36':{'s': 'q44','n': 'q37'},\n",
    "        'q37':{'s': 'q43','n': 'q38'},\n",
    "        'q38':{'s': 'q40','n': 'q39'},\n",
    "        'q39':{'s': 'q39','n': 'q39'},\n",
    "        'q40':{'s': 'q42','n': 'q41'},\n",
    "        'q41':{'s': 'q41','n': 'q41'},\n",
    "        'q42':{'s': 'q42','n': 'q42'},\n",
    "        'q43':{'s': 'q43','n': 'q43'},\n",
    "        'q44':{'s': 'q44','n': 'q44'},\n",
    "        'q45':{'s': 'q45','n': 'q45'},\n",
    "        'q46':{'s': 'q46','n': 'q46'},\n",
    "        'q47':{'s': 'q55','n': 'q48'},\n",
    "        'q48':{'s': 'q54','n': 'q49'},\n",
    "        'q49':{'s': 'q53','n': 'q50'},\n",
    "        'q50':{'s': 'q52','n': 'q51'},\n",
    "        'q51':{'s': 'q51','n': 'q51'},\n",
    "        'q52':{'s': 'q52','n': 'q52'},\n",
    "        'q53':{'s': 'q53','n': 'q53'},\n",
    "        'q54':{'s': 'q54','n': 'q54'},\n",
    "        'q55':{'s': 'q55','n': 'q55'}\n",
    "    },\n",
    "    initial_state='q0',\n",
    "    final_states={'q3','q4','q9','q11','q12','q13','q15','q17','q18','q21','q25','q26','q27','q28','q31','q32','q39','q41','q42','q43','q44','q45','q46','q51','q52','q53','q54','q55'}\n",
    ")"
   ],
   "metadata": {
    "collapsed": false
   }
  },
  {
   "cell_type": "code",
   "execution_count": 13,
   "outputs": [
    {
     "data": {
      "text/plain": "'q55'"
     },
     "execution_count": 13,
     "metadata": {},
     "output_type": "execute_result"
    }
   ],
   "source": [
    "DFA.read_input('ssssssssss')"
   ],
   "metadata": {
    "collapsed": false
   }
  },
  {
   "cell_type": "code",
   "execution_count": null,
   "outputs": [],
   "source": [],
   "metadata": {
    "collapsed": false
   }
  }
 ],
 "metadata": {
  "kernelspec": {
   "display_name": "Python 3",
   "language": "python",
   "name": "python3"
  },
  "language_info": {
   "codemirror_mode": {
    "name": "ipython",
    "version": 2
   },
   "file_extension": ".py",
   "mimetype": "text/x-python",
   "name": "python",
   "nbconvert_exporter": "python",
   "pygments_lexer": "ipython2",
   "version": "2.7.6"
  }
 },
 "nbformat": 4,
 "nbformat_minor": 0
}
